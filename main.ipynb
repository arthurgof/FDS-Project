{
 "cells": [
  {
   "cell_type": "markdown",
   "metadata": {},
   "source": [
    "## Final project"
   ]
  },
  {
   "cell_type": "code",
   "execution_count": 1,
   "metadata": {},
   "outputs": [
    {
     "data": {
      "image/png": "[encoded data removed]",
      "text/plain": [
       "<Figure size 432x288 with 1 Axes>"
      ]
     },
     "metadata": {},
     "output_type": "display_data"
    }
   ],
   "source": [
    "from Function import Neural_Network\n",
    "import numpy as np\n",
    "import matplotlib.pyplot as plt\n",
    "import os\n",
    "from PIL import Image\n",
    "# proof neural network\n",
    "NN = Neural_Network(8, 8, 8)\n",
    "input = np.array([[1, 0, 0, 0, 0, 0, 0, 0],\n",
    "                [0, 1, 0, 0, 0, 0, 0, 0],\n",
    "                [0, 0, 1, 0, 0, 0, 0, 0],\n",
    "                [0, 0, 0, 1, 0, 0, 0, 0],\n",
    "                [0, 0, 0, 0, 1, 0, 0, 0],\n",
    "                [0, 0, 0, 0, 0, 1, 0, 0],\n",
    "                [0, 0, 0, 0, 0, 0, 1, 0],\n",
    "                [0, 0, 0, 0, 0, 0, 0, 1]])\n",
    "\n",
    "output = np.array([[1, 0, 0, 0, 0, 0, 0, 0],\n",
    "                [0, 1, 0, 0, 0, 0, 0, 0],\n",
    "                [0, 0, 1, 0, 0, 0, 0, 0],\n",
    "                [0, 0, 0, 1, 0, 0, 0, 0],\n",
    "                [0, 0, 0, 0, 1, 0, 0, 0],\n",
    "                [0, 0, 0, 0, 0, 1, 0, 0],\n",
    "                [0, 0, 0, 0, 0, 0, 1, 0],\n",
    "                [0, 0, 0, 0, 0, 0, 0, 1]]).T\n",
    "\n",
    "NN.training(input, output, input, output, 0.1, 100)\n",
    "plt.style.use('ggplot')\n",
    "plt.plot(NN.accuracy_history)\n",
    "plt.title('Learning Rate = 0.1')\n",
    "plt.ylabel('Accuracy (%)')\n",
    "plt.xlabel('Time')\n",
    "plt.show()"
   ]
  },
  {
   "cell_type": "code",
   "execution_count": 2,
   "metadata": {},
   "outputs": [],
   "source": [
    "def createArray(file, size):\n",
    "    image = Image.open(file)\n",
    "    data = np.array(image).flatten()\n",
    "    #data = np.where(data == 0, data, 1)\n",
    "    output = np.zeros(size)\n",
    "    output[i] = .9\n",
    "    return data, output"
   ]
  },
  {
   "cell_type": "code",
   "execution_count": 3,
   "metadata": {},
   "outputs": [],
   "source": [
    "# https://www.kaggle.com/jidhumohan/mnist-png ==> dataset\n",
    "\n",
    "testdir = 'mnist_png/testing/'\n",
    "trainingdir = 'mnist_png/training/'\n",
    "training_input = list()\n",
    "training_output = list()\n",
    "test_input = list()\n",
    "test_output = list()\n",
    "size = 4\n",
    "max = 5000\n",
    "for i in range(size):\n",
    "    train_directories = os.listdir(trainingdir+str(i))\n",
    "    test_directories = os.listdir(testdir+str(i))\n",
    "    id = 0\n",
    "    for file in train_directories:\n",
    "        data, output = createArray(trainingdir+str(i)+\"/\"+file, size)\n",
    "        training_input.append(data)\n",
    "        training_output.append(output)\n",
    "        \n",
    "    for file in test_directories:\n",
    "        data, output = createArray(testdir+str(i)+\"/\"+file, size)\n",
    "        test_input.append(data)\n",
    "        test_output.append(output)\n",
    "\n"
   ]
  },
  {
   "cell_type": "code",
   "execution_count": 5,
   "metadata": {},
   "outputs": [
    {
     "name": "stderr",
     "output_type": "stream",
     "text": [
      "/home/ec2-user/FDS-Project/Function.py:11: RuntimeWarning: overflow encountered in exp\n",
      "  return 1/(1+np.exp(-x))\n"
     ]
    }
   ],
   "source": [
    "NN = Neural_Network(28*28, 100, size)\n",
    "NN.training(np.array(training_input), np.array(training_output), test_input, test_output, 1, 100)\n",
    "\n",
    "#NN.training(np.array(training_input), np.array(training_output), test_input, test_output, .2, 50)\n",
    "\n",
    "plt.style.use('ggplot')\n",
    "plt.plot(NN.accuracy_history)\n",
    "plt.title('Evolution of the accuracy')\n",
    "plt.ylabel('Accuracy (%)')\n",
    "plt.xlabel('Iteration')\n",
    "plt.show()"
   ]
  }
 ],
 "metadata": {
  "interpreter": {
   "hash": "bfe512e5b4f69ebed172c585cca70fecc3c02411a622d155f4ffd816fba62633"
  },
  "kernelspec": {
   "display_name": "Python 3.7.6 64-bit ('base': conda)",
   "language": "python",
   "name": "python3"
  },
  "language_info": {
   "codemirror_mode": {
    "name": "ipython",
    "version": 3
   },
   "file_extension": ".py",
   "mimetype": "text/x-python",
   "name": "python",
   "nbconvert_exporter": "python",
   "pygments_lexer": "ipython3",
   "version": "3.7.6"
  },
  "orig_nbformat": 4
 },
 "nbformat": 4,
 "nbformat_minor": 2
}
