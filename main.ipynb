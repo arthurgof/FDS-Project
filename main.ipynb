{
 "cells": [
  {
   "cell_type": "markdown",
   "metadata": {},
   "source": [
    "## Final project"
   ]
  },
  {
   "cell_type": "code",
   "execution_count": 1,
   "metadata": {},
   "outputs": [],
   "source": [
    "from Function import Neural_Network, NaiveBayes\n",
    "import numpy as np\n",
    "import matplotlib.pyplot as plt\n",
    "import os\n",
    "from PIL import Image\n",
    "import random"
   ]
  },
  {
   "cell_type": "markdown",
   "metadata": {},
   "source": [
    "## Create the training set and the data set"
   ]
  },
  {
   "cell_type": "code",
   "execution_count": 2,
   "metadata": {},
   "outputs": [],
   "source": [
    "def createArray(file, size):\n",
    "    image = Image.open(file)\n",
    "    data = np.array(image).flatten()\n",
    "    data = np.where(data == 0, data, 1)\n",
    "    output = np.zeros(size)\n",
    "    output[i] = 1\n",
    "    return data, output"
   ]
  },
  {
   "cell_type": "code",
   "execution_count": 3,
   "metadata": {},
   "outputs": [],
   "source": [
    "# create the \n",
    "# https://www.kaggle.com/jidhumohan/mnist-png ==> dataset\n",
    "\n",
    "testdir = 'mnist_png/testing/'\n",
    "trainingdir = 'mnist_png/training/'\n",
    "training_input = list()\n",
    "training_output = list()\n",
    "test_input = list()\n",
    "test_output = list()\n",
    "size = 10\n",
    "for i in range(size):\n",
    "    train_directories = os.listdir(trainingdir+str(i))\n",
    "    test_directories = os.listdir(testdir+str(i))\n",
    "    for file in train_directories:\n",
    "        data, output = createArray(trainingdir+str(i)+\"/\"+file, size)\n",
    "        training_input.append(data)\n",
    "        training_output.append(output)\n",
    "        \n",
    "    for file in test_directories:\n",
    "        data, output = createArray(testdir+str(i)+\"/\"+file, size)\n",
    "        test_input.append(data)\n",
    "        test_output.append(output)\n",
    "\n"
   ]
  },
  {
   "cell_type": "code",
   "execution_count": 4,
   "metadata": {},
   "outputs": [
    {
     "name": "stdout",
     "output_type": "stream",
     "text": [
      "60000\n"
     ]
    }
   ],
   "source": [
    "print(len(training_input))"
   ]
  },
  {
   "cell_type": "markdown",
   "metadata": {},
   "source": [
    "## Create a NeuralNetwork and train it with the backprog"
   ]
  },
  {
   "cell_type": "code",
   "execution_count": 5,
   "metadata": {},
   "outputs": [],
   "source": [
    "def createMinibatch(input, output, size):\n",
    "    minibatchin = list()\n",
    "    minibatchout = list()\n",
    "    delta = int(len(input)/10)\n",
    "    for i in range(int(size/10)):\n",
    "        index = random.randint(0, delta-1)\n",
    "        for i in range(10):\n",
    "            minibatchin.append(input[index+(i*delta)])\n",
    "            minibatchout.append(output[index+(i*delta)])\n",
    "    return minibatchin, minibatchout\n",
    "    "
   ]
  },
  {
   "cell_type": "code",
   "execution_count": 6,
   "metadata": {},
   "outputs": [
    {
     "data": {
      "text/plain": [
       "\"NN = Neural_Network(28*28, 30, size)\\nfromid = 0\\naccuracyhist = list()\\nfor toid in range(200):\\n    minibatchin, minibatchout = createMinibatch(training_input, training_output, 3000)\\n    NN.training(np.array(minibatchin), np.array(minibatchout), .75, 1)\\n    accuracyhist.append(NN.accuracy(test_input, test_output))\\n\\nfor toid in range(200):\\n    minibatchin, minibatchout = createMinibatch(training_input, training_output, 3000)\\n    NN.training(np.array(minibatchin), np.array(minibatchout), .25, 1)\\n    accuracyhist.append(NN.accuracy(test_input, test_output))\\n    \\nplt.style.use('ggplot')\\nplt.plot(NN.loss_history)\\nplt.title('Evolution of the loss')\\nplt.ylabel('loss')\\nplt.xlabel('Iteration')\\nplt.show()\\n\\nplt.style.use('ggplot')\\nplt.plot(accuracyhist)\\nplt.title('Evolution of the accuracy')\\nplt.ylabel('accuracy')\\nplt.xlabel('Iteration')\\nplt.show()\\n\\nprint('The finale accuracy is :', accuracyhist[len(accuracyhist)-1],'%')\""
      ]
     },
     "execution_count": 6,
     "metadata": {},
     "output_type": "execute_result"
    }
   ],
   "source": [
    "'''NN = Neural_Network(28*28, 30, size)\n",
    "fromid = 0\n",
    "accuracyhist = list()\n",
    "for toid in range(200):\n",
    "    minibatchin, minibatchout = createMinibatch(training_input, training_output, 3000)\n",
    "    NN.training(np.array(minibatchin), np.array(minibatchout), .75, 1)\n",
    "    accuracyhist.append(NN.accuracy(test_input, test_output))\n",
    "\n",
    "for toid in range(200):\n",
    "    minibatchin, minibatchout = createMinibatch(training_input, training_output, 3000)\n",
    "    NN.training(np.array(minibatchin), np.array(minibatchout), .25, 1)\n",
    "    accuracyhist.append(NN.accuracy(test_input, test_output))\n",
    "    \n",
    "plt.style.use('ggplot')\n",
    "plt.plot(NN.loss_history)\n",
    "plt.title('Evolution of the loss')\n",
    "plt.ylabel('loss')\n",
    "plt.xlabel('Iteration')\n",
    "plt.show()\n",
    "\n",
    "plt.style.use('ggplot')\n",
    "plt.plot(accuracyhist)\n",
    "plt.title('Evolution of the accuracy')\n",
    "plt.ylabel('accuracy')\n",
    "plt.xlabel('Iteration')\n",
    "plt.show()\n",
    "\n",
    "print('The finale accuracy is :', accuracyhist[len(accuracyhist)-1],'%')'''"
   ]
  },
  {
   "cell_type": "code",
   "execution_count": 7,
   "metadata": {},
   "outputs": [],
   "source": [
    "NB = NaiveBayes(training_input, training_output)"
   ]
  },
  {
   "cell_type": "code",
   "execution_count": 8,
   "metadata": {},
   "outputs": [
    {
     "name": "stdout",
     "output_type": "stream",
     "text": [
      "The Global accuracy obtain is 72.58 %\n",
      "The accuracy obtain for 0 is 93.10000000000001 %\n",
      "The accuracy obtain for 1 is 94.5 %\n",
      "The accuracy obtain for 2 is 67.7 %\n",
      "The accuracy obtain for 3 is 61.0 %\n",
      "The accuracy obtain for 4 is 46.0 %\n",
      "The accuracy obtain for 5 is 52.400000000000006 %\n",
      "The accuracy obtain for 6 is 89.1 %\n",
      "The accuracy obtain for 7 is 66.0 %\n",
      "The accuracy obtain for 8 is 64.4 %\n",
      "The accuracy obtain for 9 is 91.60000000000001 %\n"
     ]
    }
   ],
   "source": [
    "\n",
    "print(\"The Global accuracy obtain is\",NB.accuracy(test_input, test_output),\"%\")\n",
    "for i in range(10):\n",
    "    print(\"The accuracy obtain for\",i,\"is\",NB.accuracy(test_input[i*1000:][:1000], test_output[i*1000:][:1000]),\"%\")"
   ]
  }
 ],
 "metadata": {
  "interpreter": {
   "hash": "bfe512e5b4f69ebed172c585cca70fecc3c02411a622d155f4ffd816fba62633"
  },
  "kernelspec": {
   "display_name": "Python 3.7.6 64-bit ('base': conda)",
   "language": "python",
   "name": "python3"
  },
  "language_info": {
   "codemirror_mode": {
    "name": "ipython",
    "version": 3
   },
   "file_extension": ".py",
   "mimetype": "text/x-python",
   "name": "python",
   "nbconvert_exporter": "python",
   "pygments_lexer": "ipython3",
   "version": "3.9.7"
  },
  "orig_nbformat": 4
 },
 "nbformat": 4,
 "nbformat_minor": 2
}
