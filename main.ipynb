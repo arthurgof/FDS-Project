{
 "cells": [
  {
   "cell_type": "markdown",
   "metadata": {},
   "source": [
    "## Final project"
   ]
  },
  {
   "cell_type": "code",
   "execution_count": 9,
   "metadata": {},
   "outputs": [],
   "source": [
    "from Function import Neural_Network, NaiveBayes\n",
    "import numpy as np\n",
    "import matplotlib.pyplot as plt\n",
    "import os\n",
    "from PIL import Image\n",
    "import random"
   ]
  },
  {
   "cell_type": "markdown",
   "metadata": {},
   "source": [
    "## Create the training set and the data set"
   ]
  },
  {
   "cell_type": "code",
   "execution_count": 10,
   "metadata": {},
   "outputs": [],
   "source": [
    "def createArray(file, size):\n",
    "    image = Image.open(file)\n",
    "    data = np.array(image).flatten()\n",
    "    data = np.where(data == 0, data, 1)\n",
    "    output = np.zeros(size)\n",
    "    output[i] = 1\n",
    "    return data, output"
   ]
  },
  {
   "cell_type": "code",
   "execution_count": 11,
   "metadata": {},
   "outputs": [],
   "source": [
    "# create the \n",
    "# https://www.kaggle.com/jidhumohan/mnist-png ==> dataset\n",
    "\n",
    "testdir = 'mnist_png/testing/'\n",
    "trainingdir = 'mnist_png/training/'\n",
    "training_input = list()\n",
    "training_output = list()\n",
    "test_input = list()\n",
    "test_output = list()\n",
    "size = 10\n",
    "for i in range(size):\n",
    "    train_directories = os.listdir(trainingdir+str(i))\n",
    "    test_directories = os.listdir(testdir+str(i))\n",
    "    for file in train_directories:\n",
    "        data, output = createArray(trainingdir+str(i)+\"/\"+file, size)\n",
    "        training_input.append(data)\n",
    "        training_output.append(output)\n",
    "        \n",
    "    for file in test_directories:\n",
    "        data, output = createArray(testdir+str(i)+\"/\"+file, size)\n",
    "        test_input.append(data)\n",
    "        test_output.append(output)\n",
    "\n"
   ]
  },
  {
   "cell_type": "code",
   "execution_count": 12,
   "metadata": {},
   "outputs": [
    {
     "name": "stdout",
     "output_type": "stream",
     "text": [
      "60000\n"
     ]
    }
   ],
   "source": [
    "print(len(training_input))"
   ]
  },
  {
   "cell_type": "markdown",
   "metadata": {},
   "source": [
    "## Create a NeuralNetwork and train it with the backprog"
   ]
  },
  {
   "cell_type": "code",
   "execution_count": 13,
   "metadata": {},
   "outputs": [],
   "source": [
    "def createMinibatch(input, output, size):\n",
    "    minibatchin = list()\n",
    "    minibatchout = list()\n",
    "    delta = int(len(input)/10)\n",
    "    for i in range(int(size/10)):\n",
    "        index = random.randint(0, delta-1)\n",
    "        for i in range(10):\n",
    "            minibatchin.append(input[index+(i*delta)])\n",
    "            minibatchout.append(output[index+(i*delta)])\n",
    "    return minibatchin, minibatchout\n",
    "    "
   ]
  },
  {
   "cell_type": "code",
   "execution_count": 14,
   "metadata": {},
   "outputs": [
    {
     "data": {
      "text/plain": [
       "\"NN = Neural_Network(28*28, 30, size)\\nfromid = 0\\naccuracyhist = list()\\nfor toid in range(200):\\n    minibatchin, minibatchout = createMinibatch(training_input, training_output, 3000)\\n    NN.training(np.array(minibatchin), np.array(minibatchout), .75, 1)\\n    accuracyhist.append(NN.accuracy(test_input, test_output))\\n\\nfor toid in range(200):\\n    minibatchin, minibatchout = createMinibatch(training_input, training_output, 3000)\\n    NN.training(np.array(minibatchin), np.array(minibatchout), .25, 1)\\n    accuracyhist.append(NN.accuracy(test_input, test_output))\\n    \\nplt.style.use('ggplot')\\nplt.plot(NN.loss_history)\\nplt.title('Evolution of the loss')\\nplt.ylabel('loss')\\nplt.xlabel('Iteration')\\nplt.show()\\n\\nplt.style.use('ggplot')\\nplt.plot(accuracyhist)\\nplt.title('Evolution of the accuracy')\\nplt.ylabel('accuracy')\\nplt.xlabel('Iteration')\\nplt.show()\\n\\nprint('The finale accuracy is :', accuracyhist[len(accuracyhist)-1],'%')\""
      ]
     },
     "execution_count": 14,
     "metadata": {},
     "output_type": "execute_result"
    }
   ],
   "source": [
    "'''NN = Neural_Network(28*28, 30, size)\n",
    "fromid = 0\n",
    "accuracyhist = list()\n",
    "for toid in range(200):\n",
    "    minibatchin, minibatchout = createMinibatch(training_input, training_output, 3000)\n",
    "    NN.training(np.array(minibatchin), np.array(minibatchout), .75, 1)\n",
    "    accuracyhist.append(NN.accuracy(test_input, test_output))\n",
    "\n",
    "for toid in range(200):\n",
    "    minibatchin, minibatchout = createMinibatch(training_input, training_output, 3000)\n",
    "    NN.training(np.array(minibatchin), np.array(minibatchout), .25, 1)\n",
    "    accuracyhist.append(NN.accuracy(test_input, test_output))\n",
    "    \n",
    "plt.style.use('ggplot')\n",
    "plt.plot(NN.loss_history)\n",
    "plt.title('Evolution of the loss')\n",
    "plt.ylabel('loss')\n",
    "plt.xlabel('Iteration')\n",
    "plt.show()\n",
    "\n",
    "plt.style.use('ggplot')\n",
    "plt.plot(accuracyhist)\n",
    "plt.title('Evolution of the accuracy')\n",
    "plt.ylabel('accuracy')\n",
    "plt.xlabel('Iteration')\n",
    "plt.show()\n",
    "\n",
    "print('The finale accuracy is :', accuracyhist[len(accuracyhist)-1],'%')'''"
   ]
  },
  {
   "cell_type": "code",
   "execution_count": 15,
   "metadata": {},
   "outputs": [],
   "source": [
    "NB = NaiveBayes(training_input, training_output)\n",
    "print('The accuracy of Naive Bayes is',NB.accuracy(test_input, test_output))"
   ]
  }
 ],
 "metadata": {
  "interpreter": {
   "hash": "bfe512e5b4f69ebed172c585cca70fecc3c02411a622d155f4ffd816fba62633"
  },
  "kernelspec": {
   "display_name": "Python 3.7.6 64-bit ('base': conda)",
   "language": "python",
   "name": "python3"
  },
  "language_info": {
   "codemirror_mode": {
    "name": "ipython",
    "version": 3
   },
   "file_extension": ".py",
   "mimetype": "text/x-python",
   "name": "python",
   "nbconvert_exporter": "python",
   "pygments_lexer": "ipython3",
   "version": "3.9.7"
  },
  "orig_nbformat": 4
 },
 "nbformat": 4,
 "nbformat_minor": 2
}
